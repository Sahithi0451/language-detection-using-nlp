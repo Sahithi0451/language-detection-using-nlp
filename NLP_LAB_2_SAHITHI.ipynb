{
  "nbformat": 4,
  "nbformat_minor": 0,
  "metadata": {
    "colab": {
      "provenance": [],
      "authorship_tag": "ABX9TyOeda+8bWHktdAVzkI153b+",
      "include_colab_link": true
    },
    "kernelspec": {
      "name": "python3",
      "display_name": "Python 3"
    },
    "language_info": {
      "name": "python"
    }
  },
  "cells": [
    {
      "cell_type": "markdown",
      "metadata": {
        "id": "view-in-github",
        "colab_type": "text"
      },
      "source": [
        "<a href=\"https://colab.research.google.com/github/Sahithivengalatooru/language-detection-using-nlp/blob/main/NLP_LAB_2_SAHITHI.ipynb\" target=\"_parent\"><img src=\"https://colab.research.google.com/assets/colab-badge.svg\" alt=\"Open In Colab\"/></a>"
      ]
    },
    {
      "cell_type": "markdown",
      "source": [
        "Question-1\n"
      ],
      "metadata": {
        "id": "WtnyXv_jpWaD"
      }
    },
    {
      "cell_type": "code",
      "source": [
        "# Text to be processed\n",
        "text = \"Just in a few years, natural language processing has evolved into something so powerful and impactful, which no one could have imagined.\"\n",
        "\n",
        "# Tokenize using whitespace tokenizer\n",
        "whitespace_tokens = text.split()\n",
        "print(\"Whitespace Tokenization:\")\n",
        "print(whitespace_tokens)\n"
      ],
      "metadata": {
        "colab": {
          "base_uri": "https://localhost:8080/"
        },
        "id": "moShTs-Lnua7",
        "outputId": "84cdae79-1d54-43c0-d70a-601bf39a0958"
      },
      "execution_count": null,
      "outputs": [
        {
          "output_type": "stream",
          "name": "stdout",
          "text": [
            "Whitespace Tokenization:\n",
            "['Just', 'in', 'a', 'few', 'years,', 'natural', 'language', 'processing', 'has', 'evolved', 'into', 'something', 'so', 'powerful', 'and', 'impactful,', 'which', 'no', 'one', 'could', 'have', 'imagined.']\n"
          ]
        }
      ]
    },
    {
      "cell_type": "code",
      "execution_count": null,
      "metadata": {
        "colab": {
          "base_uri": "https://localhost:8080/"
        },
        "id": "GbYZNUGcnj3a",
        "outputId": "445bd7a8-43bd-4c9e-ca07-72c916acf1b9"
      },
      "outputs": [
        {
          "output_type": "stream",
          "name": "stdout",
          "text": [
            "spaCy Tokenization:\n",
            "['Just', 'in', 'a', 'few', 'years,', 'natural', 'language', 'processing', 'has', 'evolved', 'into', 'something', 'so', 'powerful', 'and', 'impactful,', 'which', 'no', 'one', 'could', 'have', 'imagined.']\n"
          ]
        }
      ],
      "source": [
        "import spacy\n",
        "from spacy.tokenizer import Tokenizer\n",
        "\n",
        "# Text to be processed\n",
        "text = \"Just in a few years, natural language processing has evolved into something so powerful and impactful, which no one could have imagined.\"\n",
        "\n",
        "# Load the spaCy English language model\n",
        "nlp = spacy.load(\"en_core_web_sm\")\n",
        "\n",
        "# Custom spaCy tokenizer using only the default rules\n",
        "custom_tokenizer = Tokenizer(nlp.vocab)\n",
        "\n",
        "# Apply the custom tokenizer to the text\n",
        "spacy_tokens = [token.text for token in custom_tokenizer(text)]\n",
        "print(\"spaCy Tokenization:\")\n",
        "print(spacy_tokens)\n"
      ]
    },
    {
      "cell_type": "markdown",
      "source": [
        "Question-2"
      ],
      "metadata": {
        "id": "SZpt3wojpf6T"
      }
    },
    {
      "cell_type": "code",
      "source": [
        "import nltk\n",
        "nltk.download('punkt')\n",
        "file_path = \"switzerland.txt\"\n",
        "with open(file_path, 'r') as file:\n",
        "    text = file.read()\n",
        "print(text)\n",
        "import nltk\n",
        "nltk.download('stopwords')\n",
        "from nltk.corpus import stopwords\n",
        "from nltk.tokenize import word_tokenize\n",
        "tokens = word_tokenize(text)\n",
        "tokens = [word.lower() for word in tokens if word.isalnum()]\n",
        "stop_words = set(stopwords.words('english'))\n",
        "stopword_count = sum(1 for word in tokens if word in stop_words)\n",
        "total_words = len(tokens)\n",
        "stopword_percentage = (stopword_count / total_words) * 100\n",
        "print(f\"Percentage of stopwords: {stopword_percentage:.2f}%\")\n",
        "filtered_tokens = [word for word in tokens if word not in stop_words]\n",
        "filtered_text = ' '.join(filtered_tokens)\n",
        "print(\"\\nFiltered text without stopwords:\")\n",
        "print(filtered_text)"
      ],
      "metadata": {
        "colab": {
          "base_uri": "https://localhost:8080/"
        },
        "id": "CLm9eOHon3p7",
        "outputId": "79496787-10f3-4af8-c8ff-3ea74dff87d5"
      },
      "execution_count": null,
      "outputs": [
        {
          "output_type": "stream",
          "name": "stdout",
          "text": [
            "Switzerland, officially the Swiss Confederation, is a country situated in the confluence of Western, Central, and Southern Europe. It is a federal republic composed of 26 cantons, with federal authorities based in Bern. Switzerland is a landlocked country bordered by Italy to the south, France to the west, Germany to the north, and Austria and Liechtenstein to the east. It is geographically divided among the Swiss Plateau, the Alps, and the Jura, spanning a total area of 41,285 km2 (15,940 sq mi), and land area of 39,997 km2 (15,443 sq mi). While the Alps occupy the greater part of the territory, the Swiss population of approximately 8.5 million is concentrated mostly on the plateau, where the largest cities and economic centres are located, among them Zürich, Geneva and Basel, where multiple international organisations are domiciled (such as FIFA, the UN's second-largest Office, and the Bank for International Settlements) and where the main international airports of Switzerland are.\n",
            "\n",
            "Percentage of stopwords: 43.05%\n",
            "\n",
            "Filtered text without stopwords:\n",
            "switzerland officially swiss confederation country situated confluence western central southern europe federal republic composed 26 cantons federal authorities based bern switzerland landlocked country bordered italy south france west germany north austria liechtenstein east geographically divided among swiss plateau alps jura spanning total area km2 sq mi land area km2 sq mi alps occupy greater part territory swiss population approximately million concentrated mostly plateau largest cities economic centres located among zürich geneva basel multiple international organisations domiciled fifa un office bank international settlements main international airports switzerland\n"
          ]
        },
        {
          "output_type": "stream",
          "name": "stderr",
          "text": [
            "[nltk_data] Downloading package punkt to /root/nltk_data...\n",
            "[nltk_data]   Package punkt is already up-to-date!\n",
            "[nltk_data] Downloading package stopwords to /root/nltk_data...\n",
            "[nltk_data]   Unzipping corpora/stopwords.zip.\n"
          ]
        }
      ]
    }
  ]
}